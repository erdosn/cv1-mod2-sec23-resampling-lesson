{
 "cells": [
  {
   "cell_type": "markdown",
   "metadata": {},
   "source": [
    "### Questions\n",
    "* Understanding relationship between population and resampling\n",
    "    * How is this used in the real world?\n",
    "* If you resample on hypothesis testing does it effect error or confidence?\n",
    "* Bootstrap sampling"
   ]
  },
  {
   "cell_type": "markdown",
   "metadata": {},
   "source": [
    "### Objectives\n",
    "YWBAT \n",
    "* use resampling methods in hypothesis testing"
   ]
  },
  {
   "cell_type": "markdown",
   "metadata": {},
   "source": [
    "### Outline"
   ]
  },
  {
   "cell_type": "code",
   "execution_count": 28,
   "metadata": {},
   "outputs": [],
   "source": [
    "import pandas as pd\n",
    "import numpy as np\n",
    "\n",
    "import scipy.stats as scs\n",
    "\n",
    "import matplotlib.pyplot as plt"
   ]
  },
  {
   "cell_type": "code",
   "execution_count": 7,
   "metadata": {},
   "outputs": [],
   "source": [
    "# pop1 - measuring the amount of sleep attained by students in flatiron\n",
    "pop1 = np.random.exponential(scale=6.5, size=2000) #mu = 6.5 and std = 0.75 (hrs)\n",
    "\n",
    "# pop2 - measuringthe amount of sleep attained by people not in flatiron\n",
    "pop2 = np.random.exponential(scale=8, size=100000)"
   ]
  },
  {
   "cell_type": "code",
   "execution_count": 10,
   "metadata": {},
   "outputs": [],
   "source": [
    "def make_hist(arr):\n",
    "    plt.figure(figsize=(8, 5))\n",
    "    plt.grid()\n",
    "    plt.hist(arr, alpha=0.5, bins=20)\n",
    "    plt.show()"
   ]
  },
  {
   "cell_type": "code",
   "execution_count": 11,
   "metadata": {},
   "outputs": [
    {
     "data": {
      "image/png": "[encoded data removed]",
      "text/plain": [
       "<Figure size 576x360 with 1 Axes>"
      ]
     },
     "metadata": {
      "needs_background": "light"
     },
     "output_type": "display_data"
    },
    {
     "data": {
      "image/png": "[encoded data removed]",
      "text/plain": [
       "<Figure size 576x360 with 1 Axes>"
      ]
     },
     "metadata": {
      "needs_background": "light"
     },
     "output_type": "display_data"
    }
   ],
   "source": [
    "make_hist(pop1)\n",
    "make_hist(pop2)"
   ]
  },
  {
   "cell_type": "code",
   "execution_count": 8,
   "metadata": {},
   "outputs": [
    {
     "data": {
      "text/plain": [
       "6.486270636538711"
      ]
     },
     "execution_count": 8,
     "metadata": {},
     "output_type": "execute_result"
    }
   ],
   "source": [
    "# how can I calculate the mean of my first population?\n",
    "pop1.mean()"
   ]
  },
  {
   "cell_type": "markdown",
   "metadata": {},
   "source": [
    "### are there problems using the mean this way?\n",
    "* the straight-mean is susceptible to outliers\n",
    "* using mean of population instead of sample\n",
    "* the straight-mean is not a great method of measuring the mean of the population"
   ]
  },
  {
   "cell_type": "code",
   "execution_count": 25,
   "metadata": {},
   "outputs": [],
   "source": [
    "# let's measure the mean by taking 50 samples\n",
    "mu1s = []\n",
    "mu2s = []\n",
    "\n",
    "for iteration in range(50):\n",
    "    # let's use bootstrap sampling\n",
    "    samp1 = np.random.choice(pop1, replace=True, size=2000)\n",
    "    mu1s.append(samp1.mean())\n",
    "    \n",
    "    samp2 = np.random.choice(pop2, replace=True, size=2000)\n",
    "    mu2s.append(samp2.mean())"
   ]
  },
  {
   "cell_type": "code",
   "execution_count": 26,
   "metadata": {},
   "outputs": [
    {
     "data": {
      "text/plain": [
       "(6.491007386871768, 7.9622255504936925)"
      ]
     },
     "execution_count": 26,
     "metadata": {},
     "output_type": "execute_result"
    }
   ],
   "source": [
    "np.mean(mu1s), np.mean(mu2s)"
   ]
  },
  {
   "cell_type": "code",
   "execution_count": 27,
   "metadata": {},
   "outputs": [
    {
     "data": {
      "image/png": "[encoded data removed]",
      "text/plain": [
       "<Figure size 576x360 with 1 Axes>"
      ]
     },
     "metadata": {
      "needs_background": "light"
     },
     "output_type": "display_data"
    },
    {
     "data": {
      "image/png": "[encoded data removed]",
      "text/plain": [
       "<Figure size 576x360 with 1 Axes>"
      ]
     },
     "metadata": {
      "needs_background": "light"
     },
     "output_type": "display_data"
    }
   ],
   "source": [
    "make_hist(mu1s)\n",
    "make_hist(mu2s)"
   ]
  },
  {
   "cell_type": "code",
   "execution_count": 29,
   "metadata": {},
   "outputs": [],
   "source": [
    "# bootstrap sample and run ttests\n",
    "# let's compare the means of pop1 and pop2"
   ]
  },
  {
   "cell_type": "markdown",
   "metadata": {},
   "source": [
    "### H_0: $\\mu_{\\text{pop1}} = \\mu_{\\text{pop2}}$\n",
    "### H_A: $\\mu_{\\text{pop1}} \\neq \\mu_{\\text{pop2}}$"
   ]
  },
  {
   "cell_type": "code",
   "execution_count": 30,
   "metadata": {},
   "outputs": [],
   "source": [
    "# What kind of ttest do we need?\n",
    "# 2 sample ttest, because we are comparing 2 samples\n",
    "\n",
    "\n",
    "# How many tails? 2 tails, because it's equal vs neq.  \n",
    "# 1 tail is used for example: h0: mu1 > m2 and ha: mu1 <= mu2\n",
    "\n",
    "# What assumptions have to be validated\n",
    "# normally distributed and independent -> student ttest if variances are equal else welch's"
   ]
  },
  {
   "cell_type": "code",
   "execution_count": 32,
   "metadata": {},
   "outputs": [
    {
     "data": {
      "text/plain": [
       "Ttest_indResult(statistic=-10.222273181032122, pvalue=5.603495046899576e-24)"
      ]
     },
     "execution_count": 32,
     "metadata": {},
     "output_type": "execute_result"
    }
   ],
   "source": [
    "# this is wrong! because pop1 and pop2 are not normal\n",
    "\n",
    "scs.ttest_ind(pop1, pop2, equal_var=False)\n",
    "# pvalue is 0 which means we can reject the null"
   ]
  },
  {
   "cell_type": "markdown",
   "metadata": {},
   "source": [
    "## Let's use normal distributions\n",
    "* because by the clt our sample statistics are normally distributed"
   ]
  },
  {
   "cell_type": "code",
   "execution_count": 43,
   "metadata": {},
   "outputs": [],
   "source": [
    "samp1 = [np.mean(np.random.choice(pop1, size=2000)) for i in range(100)]\n",
    "samp2 = [np.mean(np.random.choice(pop2, size=10000)) for i in range(100)]"
   ]
  },
  {
   "cell_type": "code",
   "execution_count": 44,
   "metadata": {},
   "outputs": [
    {
     "data": {
      "text/plain": [
       "Ttest_indResult(statistic=-92.86797957358587, pvalue=8.45554567122975e-133)"
      ]
     },
     "execution_count": 44,
     "metadata": {},
     "output_type": "execute_result"
    }
   ],
   "source": [
    "scs.ttest_ind(samp1, samp2, equal_var=False)"
   ]
  },
  {
   "cell_type": "markdown",
   "metadata": {},
   "source": [
    "### What did you learn?\n",
    "* I learned i can’t forget about central limit theorem….its everywhere\n",
    "* I learned about how bootstrapping is done, and about a few of these tests that can be done regarding normality.\n",
    "* Clt is king\n",
    "* I  learned:\n",
    "    * The uses for one and two sample tests\n",
    "    * Taking the mean of a population is not all that useful\n",
    "- how to deal with non-normal distributions when comparing means/parameters\n",
    "- ubiquity of CLT (to steal from nick)\n",
    "- that straight mean is not a great method of measuing pop mean\n",
    "* I learned we need to apply the Welch test when deveations are not similar deviations\n",
    "* I learned about the difference between one/two tail tests and the importance of taking sub-samples to identify the (real) mean of the population"
   ]
  },
  {
   "cell_type": "code",
   "execution_count": 49,
   "metadata": {},
   "outputs": [
    {
     "data": {
      "text/plain": [
       "Ttest_1sampResult(statistic=-0.5604720663446013, pvalue=0.5764236806316643)"
      ]
     },
     "execution_count": 49,
     "metadata": {},
     "output_type": "execute_result"
    }
   ],
   "source": [
    "# 1 sample example for pop1 \n",
    "mu_test = 7\n",
    "\n",
    "scs.ttest_1samp(samp1, 6.5)"
   ]
  },
  {
   "cell_type": "code",
   "execution_count": null,
   "metadata": {},
   "outputs": [],
   "source": []
  }
 ],
 "metadata": {
  "kernelspec": {
   "display_name": "Python 3",
   "language": "python",
   "name": "python3"
  },
  "language_info": {
   "codemirror_mode": {
    "name": "ipython",
    "version": 3
   },
   "file_extension": ".py",
   "mimetype": "text/x-python",
   "name": "python",
   "nbconvert_exporter": "python",
   "pygments_lexer": "ipython3",
   "version": "3.7.3"
  }
 },
 "nbformat": 4,
 "nbformat_minor": 2
}
